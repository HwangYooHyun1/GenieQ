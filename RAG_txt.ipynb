{
  "cells": [
    {
      "cell_type": "code",
      "execution_count": 1,
      "metadata": {
        "colab": {
          "base_uri": "https://localhost:8080/"
        },
        "id": "d5IBO-_hgXQQ",
        "outputId": "cee9344e-9b3c-46ff-b49a-71bbb90b7995"
      },
      "outputs": [
        {
          "name": "stdout",
          "output_type": "stream",
          "text": [
            "Requirement already satisfied: langchain_community in c:\\users\\admin\\anaconda3\\envs\\env_ck\\lib\\site-packages (0.3.17)\n",
            "Requirement already satisfied: langchain_openai in c:\\users\\admin\\anaconda3\\envs\\env_ck\\lib\\site-packages (0.3.6)\n",
            "Requirement already satisfied: faiss-cpu in c:\\users\\admin\\anaconda3\\envs\\env_ck\\lib\\site-packages (1.10.0)\n",
            "Requirement already satisfied: pypdf in c:\\users\\admin\\anaconda3\\envs\\env_ck\\lib\\site-packages (5.3.0)\n",
            "Requirement already satisfied: langchain-core<1.0.0,>=0.3.34 in c:\\users\\admin\\anaconda3\\envs\\env_ck\\lib\\site-packages (from langchain_community) (0.3.35)\n",
            "Requirement already satisfied: langchain<1.0.0,>=0.3.18 in c:\\users\\admin\\anaconda3\\envs\\env_ck\\lib\\site-packages (from langchain_community) (0.3.19)\n",
            "Requirement already satisfied: SQLAlchemy<3,>=1.4 in c:\\users\\admin\\anaconda3\\envs\\env_ck\\lib\\site-packages (from langchain_community) (2.0.38)\n",
            "Requirement already satisfied: requests<3,>=2 in c:\\users\\admin\\anaconda3\\envs\\env_ck\\lib\\site-packages (from langchain_community) (2.32.3)\n",
            "Requirement already satisfied: PyYAML>=5.3 in c:\\users\\admin\\anaconda3\\envs\\env_ck\\lib\\site-packages (from langchain_community) (6.0.2)\n",
            "Requirement already satisfied: aiohttp<4.0.0,>=3.8.3 in c:\\users\\admin\\anaconda3\\envs\\env_ck\\lib\\site-packages (from langchain_community) (3.11.12)\n",
            "Requirement already satisfied: tenacity!=8.4.0,<10,>=8.1.0 in c:\\users\\admin\\anaconda3\\envs\\env_ck\\lib\\site-packages (from langchain_community) (9.0.0)\n",
            "Requirement already satisfied: dataclasses-json<0.7,>=0.5.7 in c:\\users\\admin\\anaconda3\\envs\\env_ck\\lib\\site-packages (from langchain_community) (0.6.7)\n",
            "Requirement already satisfied: pydantic-settings<3.0.0,>=2.4.0 in c:\\users\\admin\\anaconda3\\envs\\env_ck\\lib\\site-packages (from langchain_community) (2.7.1)\n",
            "Requirement already satisfied: langsmith<0.4,>=0.1.125 in c:\\users\\admin\\anaconda3\\envs\\env_ck\\lib\\site-packages (from langchain_community) (0.3.8)\n",
            "Requirement already satisfied: httpx-sse<1.0.0,>=0.4.0 in c:\\users\\admin\\anaconda3\\envs\\env_ck\\lib\\site-packages (from langchain_community) (0.4.0)\n",
            "Requirement already satisfied: numpy<3,>=1.26.2 in c:\\users\\admin\\anaconda3\\envs\\env_ck\\lib\\site-packages (from langchain_community) (2.2.3)\n",
            "Requirement already satisfied: openai<2.0.0,>=1.58.1 in c:\\users\\admin\\anaconda3\\envs\\env_ck\\lib\\site-packages (from langchain_openai) (1.63.2)\n",
            "Requirement already satisfied: tiktoken<1,>=0.7 in c:\\users\\admin\\anaconda3\\envs\\env_ck\\lib\\site-packages (from langchain_openai) (0.9.0)\n",
            "Requirement already satisfied: packaging in c:\\users\\admin\\anaconda3\\envs\\env_ck\\lib\\site-packages (from faiss-cpu) (24.2)\n",
            "Requirement already satisfied: aiohappyeyeballs>=2.3.0 in c:\\users\\admin\\anaconda3\\envs\\env_ck\\lib\\site-packages (from aiohttp<4.0.0,>=3.8.3->langchain_community) (2.4.6)\n",
            "Requirement already satisfied: aiosignal>=1.1.2 in c:\\users\\admin\\anaconda3\\envs\\env_ck\\lib\\site-packages (from aiohttp<4.0.0,>=3.8.3->langchain_community) (1.3.2)\n",
            "Requirement already satisfied: attrs>=17.3.0 in c:\\users\\admin\\anaconda3\\envs\\env_ck\\lib\\site-packages (from aiohttp<4.0.0,>=3.8.3->langchain_community) (25.1.0)\n",
            "Requirement already satisfied: frozenlist>=1.1.1 in c:\\users\\admin\\anaconda3\\envs\\env_ck\\lib\\site-packages (from aiohttp<4.0.0,>=3.8.3->langchain_community) (1.5.0)\n",
            "Requirement already satisfied: multidict<7.0,>=4.5 in c:\\users\\admin\\anaconda3\\envs\\env_ck\\lib\\site-packages (from aiohttp<4.0.0,>=3.8.3->langchain_community) (6.1.0)\n",
            "Requirement already satisfied: propcache>=0.2.0 in c:\\users\\admin\\anaconda3\\envs\\env_ck\\lib\\site-packages (from aiohttp<4.0.0,>=3.8.3->langchain_community) (0.2.1)\n",
            "Requirement already satisfied: yarl<2.0,>=1.17.0 in c:\\users\\admin\\anaconda3\\envs\\env_ck\\lib\\site-packages (from aiohttp<4.0.0,>=3.8.3->langchain_community) (1.18.3)\n",
            "Requirement already satisfied: marshmallow<4.0.0,>=3.18.0 in c:\\users\\admin\\anaconda3\\envs\\env_ck\\lib\\site-packages (from dataclasses-json<0.7,>=0.5.7->langchain_community) (3.26.1)\n",
            "Requirement already satisfied: typing-inspect<1,>=0.4.0 in c:\\users\\admin\\anaconda3\\envs\\env_ck\\lib\\site-packages (from dataclasses-json<0.7,>=0.5.7->langchain_community) (0.9.0)\n",
            "Requirement already satisfied: langchain-text-splitters<1.0.0,>=0.3.6 in c:\\users\\admin\\anaconda3\\envs\\env_ck\\lib\\site-packages (from langchain<1.0.0,>=0.3.18->langchain_community) (0.3.6)\n",
            "Requirement already satisfied: pydantic<3.0.0,>=2.7.4 in c:\\users\\admin\\anaconda3\\envs\\env_ck\\lib\\site-packages (from langchain<1.0.0,>=0.3.18->langchain_community) (2.10.6)\n",
            "Requirement already satisfied: jsonpatch<2.0,>=1.33 in c:\\users\\admin\\anaconda3\\envs\\env_ck\\lib\\site-packages (from langchain-core<1.0.0,>=0.3.34->langchain_community) (1.33)\n",
            "Requirement already satisfied: typing-extensions>=4.7 in c:\\users\\admin\\anaconda3\\envs\\env_ck\\lib\\site-packages (from langchain-core<1.0.0,>=0.3.34->langchain_community) (4.12.2)\n",
            "Requirement already satisfied: httpx<1,>=0.23.0 in c:\\users\\admin\\anaconda3\\envs\\env_ck\\lib\\site-packages (from langsmith<0.4,>=0.1.125->langchain_community) (0.28.1)\n",
            "Requirement already satisfied: orjson<4.0.0,>=3.9.14 in c:\\users\\admin\\anaconda3\\envs\\env_ck\\lib\\site-packages (from langsmith<0.4,>=0.1.125->langchain_community) (3.10.15)\n",
            "Requirement already satisfied: requests-toolbelt<2.0.0,>=1.0.0 in c:\\users\\admin\\anaconda3\\envs\\env_ck\\lib\\site-packages (from langsmith<0.4,>=0.1.125->langchain_community) (1.0.0)\n",
            "Requirement already satisfied: zstandard<0.24.0,>=0.23.0 in c:\\users\\admin\\anaconda3\\envs\\env_ck\\lib\\site-packages (from langsmith<0.4,>=0.1.125->langchain_community) (0.23.0)\n",
            "Requirement already satisfied: anyio<5,>=3.5.0 in c:\\users\\admin\\anaconda3\\envs\\env_ck\\lib\\site-packages (from openai<2.0.0,>=1.58.1->langchain_openai) (4.8.0)\n",
            "Requirement already satisfied: distro<2,>=1.7.0 in c:\\users\\admin\\anaconda3\\envs\\env_ck\\lib\\site-packages (from openai<2.0.0,>=1.58.1->langchain_openai) (1.9.0)\n",
            "Requirement already satisfied: jiter<1,>=0.4.0 in c:\\users\\admin\\anaconda3\\envs\\env_ck\\lib\\site-packages (from openai<2.0.0,>=1.58.1->langchain_openai) (0.8.2)\n",
            "Requirement already satisfied: sniffio in c:\\users\\admin\\anaconda3\\envs\\env_ck\\lib\\site-packages (from openai<2.0.0,>=1.58.1->langchain_openai) (1.3.1)\n",
            "Requirement already satisfied: tqdm>4 in c:\\users\\admin\\anaconda3\\envs\\env_ck\\lib\\site-packages (from openai<2.0.0,>=1.58.1->langchain_openai) (4.67.1)\n",
            "Requirement already satisfied: python-dotenv>=0.21.0 in c:\\users\\admin\\anaconda3\\envs\\env_ck\\lib\\site-packages (from pydantic-settings<3.0.0,>=2.4.0->langchain_community) (1.0.1)\n",
            "Requirement already satisfied: charset-normalizer<4,>=2 in c:\\users\\admin\\anaconda3\\envs\\env_ck\\lib\\site-packages (from requests<3,>=2->langchain_community) (3.4.1)\n",
            "Requirement already satisfied: idna<4,>=2.5 in c:\\users\\admin\\anaconda3\\envs\\env_ck\\lib\\site-packages (from requests<3,>=2->langchain_community) (3.10)\n",
            "Requirement already satisfied: urllib3<3,>=1.21.1 in c:\\users\\admin\\anaconda3\\envs\\env_ck\\lib\\site-packages (from requests<3,>=2->langchain_community) (2.3.0)\n",
            "Requirement already satisfied: certifi>=2017.4.17 in c:\\users\\admin\\anaconda3\\envs\\env_ck\\lib\\site-packages (from requests<3,>=2->langchain_community) (2025.1.31)\n",
            "Requirement already satisfied: greenlet!=0.4.17 in c:\\users\\admin\\anaconda3\\envs\\env_ck\\lib\\site-packages (from SQLAlchemy<3,>=1.4->langchain_community) (3.1.1)\n",
            "Requirement already satisfied: regex>=2022.1.18 in c:\\users\\admin\\anaconda3\\envs\\env_ck\\lib\\site-packages (from tiktoken<1,>=0.7->langchain_openai) (2024.11.6)\n",
            "Requirement already satisfied: httpcore==1.* in c:\\users\\admin\\anaconda3\\envs\\env_ck\\lib\\site-packages (from httpx<1,>=0.23.0->langsmith<0.4,>=0.1.125->langchain_community) (1.0.7)\n",
            "Requirement already satisfied: h11<0.15,>=0.13 in c:\\users\\admin\\anaconda3\\envs\\env_ck\\lib\\site-packages (from httpcore==1.*->httpx<1,>=0.23.0->langsmith<0.4,>=0.1.125->langchain_community) (0.14.0)\n",
            "Requirement already satisfied: jsonpointer>=1.9 in c:\\users\\admin\\anaconda3\\envs\\env_ck\\lib\\site-packages (from jsonpatch<2.0,>=1.33->langchain-core<1.0.0,>=0.3.34->langchain_community) (3.0.0)\n",
            "Requirement already satisfied: annotated-types>=0.6.0 in c:\\users\\admin\\anaconda3\\envs\\env_ck\\lib\\site-packages (from pydantic<3.0.0,>=2.7.4->langchain<1.0.0,>=0.3.18->langchain_community) (0.7.0)\n",
            "Requirement already satisfied: pydantic-core==2.27.2 in c:\\users\\admin\\anaconda3\\envs\\env_ck\\lib\\site-packages (from pydantic<3.0.0,>=2.7.4->langchain<1.0.0,>=0.3.18->langchain_community) (2.27.2)\n",
            "Requirement already satisfied: colorama in c:\\users\\admin\\anaconda3\\envs\\env_ck\\lib\\site-packages (from tqdm>4->openai<2.0.0,>=1.58.1->langchain_openai) (0.4.6)\n",
            "Requirement already satisfied: mypy-extensions>=0.3.0 in c:\\users\\admin\\anaconda3\\envs\\env_ck\\lib\\site-packages (from typing-inspect<1,>=0.4.0->dataclasses-json<0.7,>=0.5.7->langchain_community) (1.0.0)\n",
            "Note: you may need to restart the kernel to use updated packages.\n"
          ]
        }
      ],
      "source": [
        "pip install langchain_community langchain_openai faiss-cpu pypdf"
      ]
    },
    {
      "cell_type": "code",
      "execution_count": 2,
      "metadata": {
        "id": "77jqG-TmgDLx"
      },
      "outputs": [],
      "source": [
        "\n",
        "#### chatGPT RAG 활용\n",
        "import os\n",
        "import openai\n",
        "from langchain.chains import AnalyzeDocumentChain\n",
        "from langchain.chains.question_answering import load_qa_chain\n",
        "from langchain.chat_models import ChatOpenAI\n",
        "from langchain_community.vectorstores import FAISS\n",
        "from langchain_openai import OpenAIEmbeddings\n",
        "from langchain.text_splitter import RecursiveCharacterTextSplitter\n",
        "from langchain.chains import RetrievalQAWithSourcesChain, LLMChain, StuffDocumentsChain\n",
        "# from langchain.retrievers import EmbeddingRetriever\n",
        "from langchain_community.vectorstores.utils import DistanceStrategy\n",
        "from langchain_community.document_loaders import PyPDFDirectoryLoader\n",
        "from langchain.document_loaders import DirectoryLoader, TextLoader\n",
        "import numpy as np\n",
        "####\n",
        "from dotenv import load_dotenv\n",
        "import json\n",
        "import faiss\n",
        "from openai import OpenAI\n",
        "\n",
        "\n",
        "#### api 키 설정\n",
        "api_key = \"api_key\"\n",
        "os.environ['OPENAI_API_KEY'] = api_key\n",
        "####\n",
        "\n",
        "\n",
        "\n",
        "\n",
        "client = OpenAI(\n",
        "    api_key=api_key,\n",
        ")\n",
        "\n",
        "def generate_text(prompt):\n",
        "    response = client.chat.completions.create(\n",
        "        model=\"gpt-4o\",\n",
        "        messages=[{\"role\":\"system\", \"content\":\"\"}\n",
        "            {\"role\": \"user\", \"content\": prompt}]\n",
        "    )\n",
        "    return response.choices[0].message.content.strip()\n"
      ]
    },
    {
      "cell_type": "code",
      "execution_count": 3,
      "metadata": {
        "id": "AOU2KdFrEKmA"
      },
      "outputs": [],
      "source": [
        "# 1. 디렉토리 내의 모든 .txt 파일을 불러오기\n",
        "loader = DirectoryLoader(\"./지문 관련\", glob=\"*.txt\", loader_cls=TextLoader)\n",
        "documents = loader.load()"
      ]
    },
    {
      "cell_type": "code",
      "execution_count": 4,
      "metadata": {},
      "outputs": [
        {
          "data": {
            "text/plain": [
              "[Document(metadata={'source': '지문 관련\\\\26수특_과학분야의 글이란.txt'}, page_content='- 자연 과학적 시각으로 물질계와 생태계, 우주를 탐구하는 인간의 정신 활동을 담고 있는 글이다.\\n- 수에 관하여 연구하는 수학, 물질의 물리적 성질과 운동 형태 등을 연구하는 물리학, 물질의 조성과 구조 · 성질 등을 연구하는 화학, 생물의 구조와 기능을 과학적으로 연구하는 생명 과학, 지구 및 천체를 연구하는 지구 과학과 관련된 글 등을 포함한다.'),\n",
              " Document(metadata={'source': '지문 관련\\\\26수특_과학분야의 글읽기방법.txt'}, page_content='- 과학 분야의 글은 낯선 용어와 원리, 방법이 제시되어 있는 경우가 많기 때문에 용어의 개념과 원리, 방법에 관한 정보를 이해하는 것을 중시해야 한다.\\n- 과학 이론을 설명하는 글의 경우, 과학자가 제시한 개념과 원리, 방법, 견해, 주장에 관한 정보에 특히 주목해야 하며, 과학 현상을 설명하는 경우, 과정, 개념, 원리, 방법에 관한 정보에 특히 주목해야 한다.\\n- 특정 과학 분야를 통시적 관점에서 다루는 글을 읽을 때에는 과학자들이 제시한 이론이 시간의 흐름에 따라 어떻게 달라졌는지를 파악하여야 한다.'),\n",
              " Document(metadata={'source': '지문 관련\\\\26수특_과학분야의 출제경향_지문.txt'}, page_content='- 물리학, 화학, 생명 과학, 지구 과학 분야의 과학적 원리와 탐구 과정, 실험 과정 등을 다룬 지문이 출제되고 있다.\\n- 화제에 대한 개념을 설명하고 그에 대한 이해를 바탕으로 원리, 방법을 이해해야 하는 지문이 자주 출제되고 있다.\\n- 최근 자주 출제되고 있는 생명 과학 제재의 경우, 구성 요소의 기능과 특징을 개념, 원리, 방법 등에 관한 정보와 함께 중시해야 하는 지문이 출제되고 있다.'),\n",
              " Document(metadata={'source': '지문 관련\\\\26수특_기술분야의 글이란.txt'}, page_content='- 인간의 삶을 편리하게 하는 산업 기술, 생활 기술 등 다양한 분야의 기술을 설명하는 글이다.\\n- 특정 과학 이론을 바탕으로 장치나 시스템에 적용되는 원리와 작동 과정, 한계 등을 구체적으로 서술한 글이다.\\n- 전기와 전자의 원리를 이용한 공학 기술, 컴퓨터를 이용한 공학 기술, 화학이나 생명 과학과 결합된 공학 기술, 토목이나 건축에 활용되는 토목건축 공학 기술과 관련된 글 둥을 포함한다.'),\n",
              " Document(metadata={'source': '지문 관련\\\\26수특_기술분야의 글읽기방법.txt'}, page_content='- 장치나 시스템의 작동 원리를 과정에 따라 설명하는 글은 각각의 단계에서 이루어지는 일을 파악하며 각 단계의 원리, 방법을 이해해야 한다.\\n- 장치나 시스템의 구성 요소에 관한 정보가 제시되어 있는 경우, 그 구성 요소의 기능과 특징에 관한 정보에 주목하여 작동 원리를 이해해야 한다.\\n- 낯선 용어의 개념을 정확히 이해해야 하며, 이를 바탕으로 원리, 방법을 정확하게 이해해야 한다.\\n- 지문이나 문항의 <보기>에 시각자료가 제시되어 있으면, 이 자료를 참고하여 지문의 내용을 이해해야 한다.'),\n",
              " Document(metadata={'source': '지문 관련\\\\26수특_기술분야의 출제경향_지문.txt'}, page_content='- 실생활에서 익숙하게 접할 수 있는 장치나 시스템에 관한 내용을 제재로 삼고 있으며 전문적인 내용을 다루는 경우가 많다.\\n- 사회의 기술적 발전 양상을 바탕으로 정보 통신 기술, 컴퓨터 공학, 영상 과학 기술, 생명 공학 관련 제재들이 자주 출제되고 있다.'),\n",
              " Document(metadata={'source': '지문 관련\\\\26수특_사회문화분야의 글이란.txt'}, page_content='- 사회에서 일어나거나 일어날 수 있는 다양한 문제를 소개하고 해결하는 방안을 제시하 는 글이다.\\n- 사회 현상이나 문화 현상을 다양한 관점에서 논리적, 체계적으로 설명하는 글이다.\\n- 법을 다룬 법학, 사회 제도 및 사회의 다양한 현상을 연구하는 사회학, 기업의 경영을 다룬 경영학, 경제 문제 및 경제 활동을 설명하는 경제학, 생물로서의 인간을 종합적으로 연구하는 인류학, 사회 구성원에 의해 이루어진 생활 양식 및 그와 관련하여 일어나는 여러 현상들을 연구하는 문화학과 관련된 글 등을 포함한다.'),\n",
              " Document(metadata={'source': '지문 관련\\\\26수특_사회문화분야의 글읽기방법.txt'}, page_content='- 사회 현상이나 문화 현상을 제재로 삼은 글의 경우 제시된 현상의 특징에 주목해야 한다. 이때 문제가 되는 현상을 제시했다면 글에서 문제 삼고 있는 것이 무엇인지 정확히 파악해야 한다.\\n- 제도나 정책에 대해 설명하는 글은 그 제도나 정책의 특징과 함께 한계나 의의, 문제점을 극복하기 위한 대안에 해당하는 정보에 주목해야 한다.\\n- 글쓴이나 학자의 견해나 주장이 제시되는 경우, 핵심 견해나 주장을 바탕으로 관점(입장)을 명확히 파악해 구체적인 사례나 상황에 적용할 수 있어야 한다.\\n- 동일한 사회 현상이나 문화현상에 대한 다양한 관점을 비교·분석하며 읽어야한다.\\n- 사회 현상이나 문화 현상에 대한 분석이나 주장이 타당한지 비판하며 읽어야 한다'),\n",
              " Document(metadata={'source': '지문 관련\\\\26수특_사회문화분야의 출제경향_지문.txt'}, page_content='- 법, 행정, 경영, 경제, 사회, 통계, 방송, 지리 등 다양한 분야의 제재가 출제되고 있는데, 최근에는 법이나 경제 관련 제재들이 자주 출제되고 있다.\\n- 사회 현상을 이론적으로 분석하거나 사회 현상에 대한 해결 방안 및 제도를 여러 관점에서 논리적으로 제시한 글이 자주 등장하고 있다.\\n- 사회 각 분야의 기초 소양을 바탕으로 다양한 정보를 통합적으로 아우르는 사고를 통해 주체적이고 비판적 읽기를 수행해야 하는 지문이 출제되고 있다.'),\n",
              " Document(metadata={'source': '지문 관련\\\\26수특_예술분야의 글이란.txt'}, page_content='- 미의 본질이나 미를 추구하는 인간의 다양한 예술 행위에 대해 다루고 있는 글이다.\\n- 예술의 본질과 다양한 예술 행위의 특징을 이해하는 한편, 예술 작품을 수용하는 미적 안목을 향상하는 데 도움을 주기 위한 글이다.\\n- 예술의 본질에 대해 논의하는 글, 다양한 예술 행위의 특징을 설명하는 글, 주요 예술가나 예술 작품을 비평하는 글, 예술 사조에 대해 설명하는 글 등을 포함한다.\\n\\n'),\n",
              " Document(metadata={'source': '지문 관련\\\\26수특_예술분야의 글읽기방법.txt'}, page_content='- 예술 분야의 글은 예술의 본질만이 아니라 작가나 작품 등 예술과 관련된 대상을 제재로 삼고 있는 글이 많으므로, 대상의 특징을 구체적으로 이해해야 한다.\\n- 예술론과 관련된 글은 제시된 핵심 개념이나 용어를 글의 맥락 속에서 정확하게 파악하고, 이에 근거하여 글의 논지와 핵심 내용을 정확하게 이해해야 한다.\\n- 예술 작품을 감상하고 비평하는 글은 글쓴이 또는 글에 제시된 평가자의 관점이나 견해를 정확히 파악한후, 그 평가가 타당한지에 대해 비판적 자세로 살펴보아야 한다.\\n- 예술의 갈래나 사조에 대해 설명하고 있는 글은 다른 갈래나 사조와 비교하면서 해당 갈래의 특징을 이해하거나 사조가 변화되어 가는 양상에 주목해야 한다.'),\n",
              " Document(metadata={'source': '지문 관련\\\\26수특_예술분야의 출제경향_지문.txt'}, page_content='- 예술을 이해하고 예술 작품에 대한 심미안을 향상하기 위한 지문이 주로 출제되어 왔다.\\n- 융합적 사고를 바탕으로 한 주제 통합적 독해가 중요해짐에 따라 예술에 대한 다양한 관점을 다루는 글들이 지속적으로 출제되고 있다.'),\n",
              " Document(metadata={'source': '지문 관련\\\\26수특_인문분야의 글이란.txt'}, page_content='- 인간의 존재와 관련된 문제, 그리고 인간의 사상과 문화 등을 다루고 있는 글이다.\\n- 인간의 본질이나 정신세계, 그리고 인간의 행위에 대한 이해를 목적으로 하는 글이다.\\n- 인간과 세계의 본질과 관련된 글, 인간의 행위 규범과 관련된 글, 인간의 의식 세계와 관련된 글, 사유의 형식이나 법칙과 관련된 글, 그리고 역사나 종교와 관련된 글 등을 포함한다.'),\n",
              " Document(metadata={'source': '지문 관련\\\\26수특_인문분야의 글읽기방법.txt'}, page_content='- 인문 분야의 글은 인간에 대한 다양한 견해를 다루고 있기 때문에, 글에 제시된 관점이나 글쓴이의 관점을 파악하고 그에 따른 해석에 유의하여 읽어야 한다.\\n- 해당 분야의 전문적 개념이나 용어가 제시되는 경우가 많은데, 이 때에는 먼저 주요 개념이나 용어를 정확하게 이해하고, 이를 바탕으로 글의 논지와 세부 내용을 파악해야 한다.\\n- 글에 제시된 관점이나 글쓴이의 관점을 파악한 후, 배경지식을 활용하거나 관련된 자료를 살펴보며 글의 논지와 핵심 내용을 정확하게 이해해야 한다.\\n- 하나의 상황과 관련하여 여러 관점이 제시되어 있는 경우, 그 관점들을 비교 및 대조해 보고 이를 바탕으로 타당한 근거를 세워 각각의 관점을 비판적으로 살펴보아야 한다.'),\n",
              " Document(metadata={'source': '지문 관련\\\\26수특_인문분야의 출제경향_지문.txt'}, page_content='- 인간에 대한 철학적 탐구나 사유를 통해 인간에 대한 이해를 심화하기 위한 지문이 주로 출제되어 왔다.\\n- 융합적 사고를 바탕으로 한 주제 통합적 독해가 중요해짐에 따라 여러 관점을 비판적이고 종합적으로 이해해야 하는 글들이 지속적으로 출제되고 있다.'),\n",
              " Document(metadata={'source': '지문 관련\\\\26수특_주제통합분야의 글이란.txt'}, page_content='- 동일한 화제나 유사한 주제에 대해 다양한 관점과 형식으로 표현된 여러 글을 함께 제시한 것이다.\\n- 여러 형식으로 다양한 관점을 담고 있는 글들을 엮어 제시하고 있어 여러 글을 대조하거나 비교하면서 읽는 것이 가능한 것이다.\\n- 상호 텍스트성을 바탕으로 비판적, 통합적으로 읽고 독서 목적에 맞게 내용을 재구성하는 활동이 가능한 글들을 함께 제시한 것이다.\\n- 다양한 관계를 바탕으로 제시된 여러 글을 읽으며 비판적 읽기, 추론적 읽기, 창의적 읽기 등의 다양한 독서 활동이 가능한 것이다.'),\n",
              " Document(metadata={'source': '지문 관련\\\\26수특_주제통합분야의 글읽기방법.txt'}, page_content='- 주제 통합이 다양한 영역에서 이루어질 수 있으므로 인문예술, 사회문화, 과학기술 분야의 글 읽기를 통해 익힌 방법론을 서로 연계하고 적용하여 독해해야 한다.\\n- (가), (나)의 공통 화제를 파악하고 화제에 대해 각각의 글이 어떤 관점에서 어떤 내용을 서술하고 있는지를 이해해야 하며, (가), (나)가 관점과 내용의 측면에서 지닌 공통점과 차이점을 파악할 수 있어야한다.\\n- (가), (나)가 어떤 전개 방식으로 화제에 관한 내용을 서술하고 있는지를 파악해 (가), (나)의 형식적인 특징을 분석적으로 비교할 수 있어야 한다.\\n- (가), (나)는 견해 ·주장, 개념, 원리, 방법 등에 관한 정보를 중심으로 통합적으로 엮어 읽을 수 있는 글들이 주로 제시되므로, 특히 이 정보들에 주목하여 독해를 할 수 있어야 한다.'),\n",
              " Document(metadata={'source': '지문 관련\\\\26수특_주제통합분야의 출제경향_지문.txt'}, page_content='- 단순히 여러 글을 비교, 대조하는 수준에 머물지 않고 서로 다른 관점과 형식의 글을 주제 통합적으로 읽으며 비판적으로 종합하는 능력을 평가하기 위한 지문이 출제되고 있다.\\n- EBS 연계 교재의 제재를 확장하거나 심화시켜 전문적으로 다루는 내용이 출제되고 있다.'),\n",
              " Document(metadata={'source': '지문 관련\\\\자료작성원리.txt'}, page_content='① 가능한 최근의 자료를 사용하되, 공신력 있는 기관에서 제작한 자료로 한정한다.\\n\\n② 자극적이거나 선정적인 문체로 서술되어 있거나 상투적인 내용을 다루지 않는다.\\n\\n③ 특정 집단의 주장을 비하하거나 옹호하는 내용을 담고 있는 제시문, 그릇된 고정 관념을 부추길 수 있는 내용(여성, 노인, 장애인, 문화, 인종 등)을 담고 있는 제시문은 사용하지 않는다.\\n\\n④ 제시문의 길이는 문항당 시험 시간을 고려하여 조정하되, 지나치게 길지 않도록 한다.\\n\\n⑤ 신문 기사나 인터넷 자료 등을 제시문으로 활용하는 경우에는 반드시 어법, 맞춤법, 띄어쓰기, 주어와 서술어의 호응 관계 등을 고려하여 수정한다.\\n\\n⑥ 제시문에서 독립된 내용으로 이루어진 문장이나 단락, 특정 항목을 가리키는 기호는 (가), (나), (다) 등으로 표기한다. 과목의 특성에 따라 가, 나, 다 등을 혼용할 수 있다.\\n\\n⑦ 제시문 내용은 일정한 체계나 순서를 따라 배열하되, 논리적인 순서가 없을 경우에는 길이 순으로 배열하는 것을 원칙으로 한다.\\n\\n⑧ 제시문에 사용된 내용이 학생의 선택을 요구하는 내용일 때에는 ㄱ, ㄴ, ㄷ으로 표기하고, 선택을 요구하는 내용이 아닌 경우에는 불릿 기호 ◦(HNC코드: 2F11)로 표기한다.\\n\\n⑨ 제시문에 있는 문장이나 문구를 지적하는 번호는 ㉠, ㉡, ㉢ 등으로 하고 반 칸(alt+space) 띄고 밑줄을 친다. 과목의 특성에 따라 ⓐ, ⓑ, ⓒ 또는 ㉮, ㉯, ㉰ 등으로 표기한다.\\n\\n⑩ 그림, 그래프, 표는 <보기> 앞에 배치하며, 그 순서를 바꿀 수 없다.\\n\\n⑪ 그림, 그래프, 표 등은 평가 요소의 성격과 내용, 길이, 가독성 등을 고려하여 각 면에 적절하게 배치한다.\\n\\n⑫ 표 안의 항목은 (가), (나), (다) 등으로 표기하되, 제시문의 기호에 이미 사용되었을 경우에는 ㉮, ㉯, ㉰등을 사용할 수 있다.\\n\\n⑬ 그림, 그래프, 표를 주고 묻는 문제는 발문에 그림, 그래프, 표에 대한 사전 정보를 제시한다.\\n\\n⑭ 그림의 특정 부분을 가리키는 기호는 A, B, C 등의 알파벳 대문자로 표기한다.\\n\\n⑮ 자료의 출처를 밝히고자 할 때는 자료의 우측 하단에 표기한다. 논문이나 자료명은 「 」, 단행본이나 도서 명은 『 』를 사용한다.\\n\\n⑯ 뜻을 분명히 하기 위해 사용하는 한자를 쓰는 경우, 한글 표기와 동일한 음의 한자는 ( ) 안에 표기하고, 그 의미를 명확하게 전달하기 위해 한글 표기 옆에 음이 다른 한자를 병기할 때에는 [ ] 안에 표기한다.\\n\\n⑰ 지문이나 <보기> 안에 나오는 인용 문장은 “ ”로 표기하고, 인용된 어구는 ‘ ’로 표기한다.'),\n",
              " Document(metadata={'source': '지문 관련\\\\평가문항예제.txt'}, page_content='passage은 지문이다.\\nquestion_number은 문제 번호이다.\\nquestion_text는 문항 질문이다.\\nchoices는 선지 모음이다.\\nnumber는 선지 번호이다.\\ntext는 선지에 해당하는 내용이다.\\ncriteria은 평가 요소이다.\\ndefine는 문항 풀이를 위한 주요 개념, 원리이다.\\nguidline는 학습 안내이다.\\n\\n[\\n    {\\n        \"passage\": \"(가)『한비자』는 중국 전국 시대의 한비자가 제시한 사상이 담긴 저작이다. 여러 나라가패권을 다투던 혼란기를 맞아 엄격한 법치를 통해 부국강병을 꾀한 한비자는 『노자』에 대한 해석을 통해 자신의 법치 사상을 뒷받침했고, 이러한 면모는 『한비자』의 ⌜해로⌟,  ⌜유로⌟등에서 확인할 수 있다. 『노자』에서 ‘도(道)’는 만물 생성의 근원으로 묘사된다. 도를 천지 만물의 존재와 본질의 근거라고 본 한비자의 이해도 이와 다르지 않다. 그는 자연과 인간 사회의 모든 현상은 도의 영향을 받지 않을 수 없다고 보고, 인간 사회의 일은 도에 따라 제대로 행했는가의 여부에 따라 그 성패가 드러나는 것이라고 이해했다. 한비자는 『노자』에 제시된 영구불변하는 도의 항상성에 대해 도가 천지와 더불어 영원히 존재한다는 것을 의미하는 것이지, 도가 모습과 이치를 일정하게 유지하는 것은 아니라고 이해했다. 그리고 도는 형체가 없을 뿐 아니라 일정하게 고정되어 있지 않기 때문에 때와 상황에 따라 유연하게 변화하는 것이라고 파악했다. 도가 가변성을 가지고 있어야 도가 일정한 곳에만 있지 않게 되고, 그래야만 도가 모든 사물의 존재와 본질의 근거가 될 수 있다고 파악한 것이다. 그는 도가 가변적이기 때문에 통치술도 고정되어서는 안 된다고 주장했다. 한편, 한비자는 도를 구체적인 사물과 사건에 내재한 개별 법칙의 통합으로 보고, 『노자』의 도에 시비 판단의 근거라는 새로운 의미를 부여했다. 항상 존재하는 도는 개별 법칙을 포괄하기 때문에 다양한 개별 사건의 시비를 판단하는 기준이 될 수 있고, 이러한 도에 근거해서 입법해야 다양한 사건을 판단할 수 있다고 본 것이다. 이러한 이해를 바탕으로 그는 만족을 모르는 인간의 욕망을 사회 혼란의 원인으로 지목한 『노자』의 견해에 동의하면서도, \\U000f0854노자\\U000f0855에서처럼 욕망을 없애야 한다고 주장하지 않고 인간은 욕망을 필연적으로 가질 수밖에 없음을 지적하며 욕망을 제어하기 위해 법이 필요하다고 강조했다.  (나) 유학자들은 도를 인간 삶의 올바른 길을 의미하는 것이라고 보았다. 중국 송나라 이후, 유학자들은 이러한 유학의 도를 기반으로 현상 세계 너머의 근원으로서 도가의 도에 주목하여 \\U000f0854노자\\U000f0855 주석을 전개했다. 혼란기를 거친 송나라 초기에 중앙집권화가 추진된 이후 정치적 갈등이 드러나면서 개혁의 분위기가 조성됐다. 이러한 분위기하에서 유학자이자 개혁 사상가인 왕안석은 『노자주』를 저술했다. 그는 『노자』의 도를 만물의 물질적 근원인 ‘기(氣)’라고 파악하고, 현상 세계에 앞서 존재하는 기의 작용에 의해 사물이 형성된다고 보았다. 그는 기가 시 각각 변화하듯 현상 세계도 변화한다고 이해했다. 인위적인 것을 제거해야만 도가 드러나고 인간 사회가 안정된다는 『노자』를 비판한 그는 자연과 달리 인간 사회의 안정을 위해서는 제도와 규범의 제정과 같은 인간의 적극적인 개입이 필요하다고 주장했다. 지혜와 덕이 뛰어난 사람이 제정한 사회 제도와 규범도 현실 사회의 변화에 따라 새롭게 해야 한다고 주장한 것이다. 『노자』의 이상 정치가 실현되려면 유학 이념이 실질적 수단으로 사용되어야 한다고 주장하는 등 왕안석은 \\U000f0854노자\\U000f0855를 유학의 실천적 측면과 결부하여 이해했다. 송 이후 원나라에 이르러 성행하던 도교는 유학과 불교 등을 받아들여 체계화되었지만, 오징에게는 주술적인 종교에 불과했다. 유학자의 입장에서 그는 잘못된 가르침을 펴는 도교에 사람들이 빠지는 것을 경계했다. 그는 도교의 시조로 간주된 노자의 가르침이 공자의 학문과 크게 다르지 않음을 밝히고자 『도덕진경주』를 저술했다. 그는 도와 유학 이념을 관련짓는 구절을 추가하는 등 『노자』의 일부 내용을 바꾸고 기존 구성 체제를 재편했다. 『노자』의 도를 근원적인 불변하는 도로 본 그는 모든 이치를 내재한 도가 현실화하여 천지 만물이 생성된다고 이해했다. 이런 관점에서 그는 유학의 인의예지가 도의 쇠퇴 때문에 나타난 것이라는 『노자』와 달리 도가 현실화하여 드러난 것으로 해석하고, 인간이 마땅히 따라야 할 사회 규범과 사회 질서 체계도 도가 현실화한 결과로 파악했다. 원이 쇠퇴하고 명나라가 들어선 이후 유학과 도가 등 여러 사상이 합류하는 사조가 무르익는 가운데, 유학자인 설혜는 자신의 학문적 소신에 따라 『노자』를 주석한 『노자집해』를 저술했다. 그는 공자도 존중했던 스승이 노자이므로 노자 사상에 대한 오해를 불식해야 한다고 보았다. 그는 기존의 주석서가 『노자』의 진정한 의미를 제대로 밝히지 못했기 때문에 유학자들이 노자 사상을 이단으로 치부했다고 파악한 것이다. 다양한 경전을 인용하여 『노자』를 해석하면서 그는 노자\\U000f0855의 도를 인간의 도덕 본성과 그것의 근거인 천명으로 이해하고, 본성과 천명의 이치를 탐구한다는 점에서 노자 사상과 유학이 다르지 않다고 보았다. 또한 그는 『노자』에서 인의 등을 비판한 것은 도덕을 근본으로 삼게 하기 위한 충고라고 파악했다.\",\\n        \"question_number\": \"1.\",\\n        \"question_text\": \"  <보기>를 참고할 때, (가), (나)의 사상가에 대한 왕부지의 평가로 적절하지 않은 것은?\\\\n<보기>청나라 초기의 유학자 왕부지는 『노자』의 본래 뜻을 드러내어 노자 사상을 비판하고자 『노자연』을 저술했다. 노자 사상의 비현실성을 드러내어 유학의 실용적 가치를 부각하고자 했던 그는 기존의 『노자』 주석서가 노자 사상이 아닌 사상을 기준으로 삼았기 때문에 『노자』뿐만아니라 주석자의 사상마저 왜곡했다고 비판했다. 『노자』에서 아무런 행동을 하지 않아도 천하가 다스려진다고 한 것 등을 비판한 그는, 『노자』에서처럼 단순히 인간의 이기적 욕망을 없애는 것이 아니라 사회 질서 유지를 위해 유학 규범을 활용해야 한다고 강조했다.\",\\n        \"choices\": [\\n            {\\n                \"number\": \"①\",\\n                \"text\": \"왕부지는 인간의 욕망에 대한 『노자』의 대응 방식을 부정적으로 보았으므로, (가)의 한비자가 『노자』와 달리 사회에 대한 인위적 개입이 필요하다고 한 것에 대해서는 수긍하겠군.\"\\n            },\\n            {\\n                \"number\": \"②\",\\n                \"text\": \" 왕부지는 『노자』에 제시된 소극적인 삶의 태도를 부정적으로 보았으므로, (나)의 왕안석이 사회 제도에 대한 『노자』의 견해를 비판하며 유학 이념의 활용을 주장한 것은 긍정하겠군.\"\\n            },\\n            {\\n                \"number\": \"③\",\\n                \"text\": \" 왕부지는 『노자』의 본래 뜻을 파악해야 한다고 보았으므로, (나)의 오징이 『노자』를 주석하면서 자신의 이해에 따라 원문의 구성과 내용을 수정한 것이 잘못이라고 보겠군.\"\\n            },\\n            {\\n                \"number\": \"④\",\\n                \"text\": \"왕부지는 주석자가 유학을 기준으로 『노자』를 이해하면 주석자의 사상도 왜곡된다고 보았으므로, (나)의 오징이 유학의 인의예지를 『노자』의 도가 현실화한 것으로 본 것을 비판하겠군.\"\\n            },\\n            {\\n                \"number\": \"⑤\",\\n                \"text\": \"왕부지는 『노자』에 담긴 비현실성을 드러내야 한다고 보았으므로, (나)의 설혜가 기존의  『노자』 주석서들을 비판하며 드러낸 학문적 입장이 유학의 실용적 가치를 부각한다고 보겠군\"\\n            }\\n        ],\\n        \"criteria\": \"이 문항은 읽기 자료로 제시된 두 편의 글을 읽고, 글에 제시된 서로 다른 관점을 비교･분석하며 각 관점을 비판적으로 이해할 수 있는지를 평가하기 위해 출제하였다. 이 문항은 2015 개정 교육과정 ‘[12독서01-02] 동일한 화제의 글이라도 서로 다른 관점과 형식으로 표현됨을 이해하고 다양한 글을 주제 통합적으로 읽는다.’, ‘[12독서03-01] 인문･예술 분야의 글을 읽으며 제재에 담긴 인문학적 세계관, 예술과 삶의 문제를 대하는 인간의 태도, 인간에 대한 성찰 등을 비판적으로 이해한다.’에 근거하고 있다. \",\\n        \"define\": \"이 문항의 정답을 찾기 위해서는 글에 제시된 유학자들의 『노자』에 대한 서로 다른 관점을 비판적으로 이해할 수 있어야 한다. (나)의 4문단에서 설혜는 ‘본성과 천명의 이치를 탐구한다는 점에서 노자 사상과 유학이 다르지 않’고 ‘\\U000f0854노자\\U000f0855에서 인의 등을 비판한 것은 도덕을 근본으로 삼게 하기 위한 충고라고 파악했다’고 서술하고 있다. 따라서 설혜는 노자 사상을 두둔하는 학문적 입장을 드러냈음을 알 수 있다. <보기>에서는 왕부지가 『노자연』을 저술하며 ‘노자 사상의 비현실성을 드러내어 유학의 실용적 가치를 부각하고자 했’다고 서술하고 있다. 이를 통해 왕부지는 유학과 노자 사상을 대조적인 것으로 파악하며 노자 사상을 비판했음을 알 수 있다. 따라서 ‘설혜가 기존의  『노자』 주석서들을 비판하며 드러낸 학문적 입장이 유학의 실용적 가치를 부각한다’고 왕부지는 볼 것이라는 내용은 적절하지 않으므로 ⑤가 정답이다. 이 문항을 해결하기 위해서는 동일한 화제를 다루고 있는 여러 가지 책이나 글을 바탕으로 글의 중심 내용 파악하기, 필자의 숨겨진 의도나 사회･문화적 이념 파악하기, 특정한 관점에 근거하여 글의 내용을 비판적으로 이해하기 등을 학습할 필요가 있다.\",\\n        \"guidline\": \"이러한 유형의 문항을 해결하기 위해서는, 하나의 화제에 대해 다양한 관점과 형식을 담고 있는 여러 글을 비교･분석함으로써 각 글의 내용을 비판적으로 이해할 수 있는 능력을 갖추어야 한다.  이를 위해서 학교 수업에서는 독서 교과서 등을 통해 ‘상호 텍스트성’의 개념, ‘주제 통합적 읽기’ 및 ‘비판적 읽기’의 개념에 대해 학습하고, 이를 바탕으로 실제 글을 읽는 과정에서 필자의 의도, 사회･문화적 이념 등을 종합적으로 고려하여 글의 관점을 파악해 보는 연습이 필요하다. 동일한 화제를 중심으로 글의 세부 내용 및 형식을 분석하여 정리하거나, 동일한 화제에 대해 서로 다른 관점을 지닌 글의 주장과 근거를 비교하면서 읽는 연습을 할 필요가 있다.\"\\n    },\\n    {\\n        \"passage\": \"(가) 춘추 전국 시대의 논쟁 주제 중 하나였던 음악은 진나라 때 저작인 ㉠⌜여씨춘추」에서 도 비중 있게 다뤄졌다. 이 저작에서는 음악을 인간의 자연스러운 감정이 표출되어 형성된 것이자 백성 교화의 수단으로 인식하면서도 즐거움을 주는 욕구의 대상으로 보는 것에 주안점을 두었다. 지배층의 사치스러운 음악 향유를 거론하며 음악을 아예 거부하는 묵자에 대해 이는 인간의 자연적 욕구를 거스르는 것이라 비판하고, 좋은 음악이란 신분, 연령 등을 막론하고 모든 사람들에게 즐거움을 주는 것이라고 주장하였다. 이전까지는 음악이 모든 사람에게 동일한 영향을 미친다고 여겼지만, 『여씨춘추』에서는 음악을 듣는 주체의 수준과 감성에 따라 동일한 음악이라도 상이한 느낌과 결과를 유발한다 고 보았다. 인간이 감정을 가진 것처럼 음악에도 감정이 담겨 있다고 전제하고, 음악을 통해 감정을 적절히 해소하거나 표현하면 결과적으로 장수할 수 있다고 주장하였다. 음악을 통해 감정의 표현이 적절해지면 사람의 마음은 편안해지며, 생명 연장까지도 가능하다고 본 것이다.(하략) (나)음악적 아름다움의 본질은 무엇인가? 19세기 미학자 한슬리크는 ㉡\\'음악의 아름다움은 외부의 어떤 것에도 의존하지 않고, 오로지 음과 음의 결함에 의해 이루어진다.\\'라고 주장했다. 예를 들면, 모차르트의 \\'교향곡 제40번 사단조\\'는 \\'사\\' 음을 으뜸음으로 하는 단음계로 작곡된 조성 음악으로, 여기에는 제목이나 가사 등 음악 외적인 어떤 것도 개입하지 않는다. 다만 7개의 음을 사용하여 음계를 구성하고, 으뜸. 딸림, 버금 딸림 등 각각의 기능에 따라 규칙적인 화성 진행을 한다. 조성 음악의 체계는 17세기 이후 지속된 서양 음악의 구조적 기본틀이었다. 그러나 20세기 초 서양 음악은 전통적인 아름다움의 개념을 거부하고 새로운 미적 가치를 추구하였다. 불협화음이 반드시 협화음으로 해결되어야 한다는 기존의 조성 음악으로부터의 탈피를 보여 주는 대표적인 음악들 중의 하나가 표현주의 음악이다. 표현주의는 20세기 초반에 나타난 예술 사조로서 미술에서 시작하여 음악과 문학 등 예술의 제 분야에 영향력을 미쳤다. 표현주의 예술은 소외된 인간 내면의 주관적인 감성을 충실하게 표현하려는 사조이다. 표현주의 음악의 주된 특성은 조성 음악의 체계가 상실된 것이며, 이는 곧 무조 음악\\'의 탄생으로 이어졌다. 당시 쇤베르크가 발표한 음악 프로그램 노트에는 이렇게 적혀 있다. \\'처음으로 나는 지난 시기 미학의 모든 울타리를 부숴버렸으며, 사명을 띠고 한 이념을 부르짖는다. 무조 음악은 12개의 음을 자유롭게 사용하며, 다양한 불협화음을 다룬다. 대표적인 에는 쇤베르크가 1912년에 발표한 작품 \\'㉢달에 흘린 피에로\\'이다. 이 작품은 상징주 의 시인인 지로가 발표한 연시집에 수록된 50편의 시 중에서 21편을 가사로 삼아 작곡한 성악곡이다. (하략)\",\\n        \"question_number\": \"1.\",\\n        \"question_text\": \"다음은 학생의 독서 활동 과정이다. 학생이 재구성하기 단계에서 쓴 글로 가장 적절한 것은? 질문하기-좋은 곡을 작곡하기 위해 어떤 노력이 필요할까? ->탐색 하기-음악에 대한 이해를 돕는 글 찾기->분석적 읽기-(가), (나)를 읽고 주제, 관점, 내용 등을 비교하여 종합하기 ->재구성 하기-분석 내용을 바탕으로 질문에 대한 답을 재구성하여 글로 쓰기\",\\n        \"choices\": [\\n            {\\n                \"number\": \"①\",\\n                \"text\": \"두 글은 모두 음악이 구조적인 기본틀을 제대로 갖추어야 아름다움을 느낄 수 있다고 제시하였 다. 다양한 음악 작품의 구조를 분석해 보고 내가 작곡할 때에도 적용해 보아야겠다.\"\\n            },\\n            {\\n                \"number\": \"②\",\\n                \"text\": \" 두 글은 창작자와 감상자가 각각의 입장에 따라 음악의 가치를 서로 다르게 판단한다고 제시하였다. 감상하는 사람뿐만 아니라 연주하는 사람에게도 인정받을 수 있는 음악을 작곡할 수 있도록 노력해야겠다.\"\\n            },\\n            {\\n                \"number\": \"③\",\\n                \"text\": \" 두 글은 좋은 음악으로 인정받기 위한 조건으로 도덕적 기능이 있어야 한다는 것을 공통적 으로 제시하였다. 사람들의 정서에 긍정적인 영향을 끼쳐서 세상을 아름답게 가꾸는 데 기여할 수 있는 음악을 만들어야겠다.\"\\n            },\\n            {\\n                \"number\": \"④\",\\n                \"text\": \"두 글은 동서양을 막론하고 음악이 감정을 표현하는 도구로 쓰였지만, 음악에 대한 인식이 고정되어 있는 것이 아님을 보여 주었다. 작곡을 할 때 한 가지 기준이나 방법만 고집할 것이 아니라 다양한 시도를 해 보아야겠다.\"\\n            },\\n            {\\n                \"number\": \"⑤\",\\n                \"text\": \"두 글은 시대적 상황이 음악에 영향을 끼친다는 것을 보여 주었다. 역사에 대한 배경 지식이 부족하여 글을 이해하기 힘들었는데, 글을 제대로 이해하는 데 필요한 배경 지식을 갖출 수 있도록 다양한 책 읽기를 실천해야겠다.\"\\n            }\\n        ],\\n        \"criteria\": \"이 문항은 독서 자료로 제시된 두 편의 글을 분석적 • 통합적으로 읽고, 독서 목적에 맞게 내용을 재구성할 수 있는지를 평가하기 위해 출제하였다. 이 문항은 2015 개정 교육과정 (12독서01-02) 동일한 화제의 글이라도 서로 다른 관점과 형식으로 표현됨을 이해하고 다양한 글을 주제 통합적으로 읽는다.\\'에 근거하고 있다. \",\\n        \"define\": \"이 문항의 정답을 찾기 위해서는 음악이라는 동일한 화제를 다루고 있는 (가). (나)의 내용과 형식을 비교-분석하며 종합적으로 이해하고, 주어진 조건에 맞게 의미를 재구성 할 수 있어야 한다. 이 문항에서는 주제 통합적 독서 과정을 다루고 있는데, 좋은 곡을 작곡하기 위해 어떤 노력이 필요할까?\\'라는 질문에 대한 달을 찾기 위해 관련 자료들을 탐색하고, 찾은 자료 중 (가)와 (나)에 대해 여러 가지 관점에서 분석적 읽기를 수행한 후, 분석 내용을 재구성 하여 처음에 제기했던 질문에 대한 담을 정리하는 과정으로 제시하였다. 따라서 학생이 재구성하기\\' 단계에서 쓴 글에는 (가)와 (나)를 비교•분석한 내용, 이를 바탕으로 좋은 곡을 작곡하기 위해 어떤 노력이 필요할까?\\'라는 질문에 대한 답이 포함되어야 한다. 4번의 첫째 문장에서는 두 글의 공통적인 요소를 진술하였고, 둘째 문장은 첫째 문장에 기반하여 질문에 대한 답을 작성한 것으로 볼 수 있다. 이 문항을 해결하기 위해서는 동일한 화제를 다루고 있는 여러 가지 책이나 글에서 확인 되는 상호 테스트성과 주제 통합적 읽기의 개념 및 과정 등을 학습할 필요가 있다.\",\\n        \"guidline\": \"이러한 유형의 문항을 해결하기 위해서는, 독서에서 하나의 화제에 대해 다양한 관점과 형식을 보이는 여러 글을 비관적 • 통합적으로 이해하여 의미를 재구성하는 능력을 갖추어야 한다. 이를 위해서 학교 수업에서는 독서 교과서 등을 통해 책이나 글이 상호 텍스트성을 가진 다는 점과 주제 통합적 읽기의 개념 및 과정 등을 이해하고. 동일한 화제에 대해 서로 다른 관점을 지닌 글을 대조하면서 읽거나 비슷한 주제를 담고 있는 다양한 형식의 글을 비교하면서 읽는 연습을 할 필요가 있다.\"\\n    },\\n    {\\n        \"passage\": \"충전과 방전을 ⓐ통해 반복적으로 사용할 수 있는 충전지는 충전기를 ⓑ통해 충전 하는데, 충전기는 적절한 전류와 전압을 제어하기 위한 충전 회로를 가지고 있다. 충전지는 양극에 사용되는 금속 산화 물질에 따라 납 충전지, 니켈 충전지, 리튬 충전 지로 나눌 수 있다. 충전지가 방전될 때 양극 단자와 음극 단자 간에 전위차, 즉 전압이 발생하는데. 방전이 진행되면서 전압이 감소한다. 이렇게 변화하는 단자 전압의 평균 을 공칭 전압이라 한다. 충전지를 크게 만들면 충전 용량과 방전 전류 세기를 증가시 킬 수 있으나 전극의 물질을 바꾸지 않는 한 공칭 전압은 변하지 않는다. 납 충전지의 공칭 전압은 2V, 니켈 충전지는 1.2V, 리튬 충전지는 3.6V이다. 충전지는 최대 용량까지 충전하는 것이 효율적이며 이러한 상태를 만충전이라 한 다. 최대 용량을 넘어서 충전하는 과충전이나 방전 하한 전압 이하까지 방전시키는 과방전으로 인해 충전지의 수명이 줄어들기 때문에 충전 양을 측정 • 관리하는 것이 중요하다. 특히 과충전 시에는 발열로 인해 누액이나 폭발의 위험이 있다. 니켈 충전 지의 일종인 니켈카드뮴 충전지는 다른 충전지와 달리 메모리 효과가 있어서 일부만 방전한 후 충전하는 것을 반복하면 충• 방전할 수 있는 용량이 줄어든다. (중략)충전지의 ㉠만충전 상태를 추정하여 충전을 중단하는 방식에는 몇 가지가 있다. 최대 충전 시간 방식에서는, 충전이 시작된 후 완전 방전에서 만충전될 때까지 소요될 것으로 추정되는 시간이 경과하면 무조건 충전 전원을 차단한다. 전류 적산 방식에서 는 일정한 시간 간격으로 충전 전류의 세기를 측정하여, 각각의 값에 측정 시간 간격 을 곱한 것을 모두 더한 값이 충전지의 충전 용량에 이르면 충전 전원을 차단한다. 충전 상태 검출 방식에서는 충전지의 단자 전압과 충전지 표면의 온도를 측정하여 만중전 여부를 관정한다. 충전지에 충전 전류가 유입되면 충전이 시작되어 단자 전압 과 온도가 서서히 올라간다. 충전 양이 만충전 용량의 약 80%에 이르면 발열량이 많아져 단자 전압과 온도가 급격히 올라간다. 만충전 상태에 가까워지면 단자 전압이 다소 감소하는데 일정 수준으로 감소한 시점을 만충전에 도달했다고 추정하여 충전 전원을 차단한다. 니켈카드뮴 충전지의 경우는 단자 전압의 강하를 검출할 수 있으나 다른 충전지들의 경우는 이러한 전압 강하가 검출이 가능할 만큼 크게 나타나지 않기 때문에 최대 단자 전압, 최대 온도, 온도 상승률 등의 기준을 정하고 측정된 값이 그 기준들을 넘어서지 않도록 하여 과충전을 방지한다.\",\\n        \"question_number\": \"1.\",\\n        \"question_text\": \"<보기>는 윗글을 읽은 발명 동아리 학생들이 새로운 충전기 개발을 위해 진행한 회의 일부이다. ㉠에 대한 의견으로 적절하지 않은 것은? 방식을 사용할 경우 발생할 수 있는 문제점을 생각해 보시고 의견을 말씀해 주십시오. 부원 1: 최대 충전 시간 방식을 사용할 경우, 완전 방전이 되지 않 은 상태에서 충전을 시작하면 과충전 상태에 이르는 한계 가 있습니다. 부원 2: 전류 적산 방식을 사용한 경우, 충전 전류가 변할 때보다 충전 전류가 일정할 경우에, 추정한 충전 양과 실제 충전 양의 차이가 커질 수 있다는 단점이 있습니다. 부장: 충전 상태 검출 방식에 대한 의견을 말씀해 주십시오. 부원 3: 충전 상태 검출 방식 중 전압 강하를 검출하는 방식은 여 러 종류의 충전지를 두루 충전하는 충전기에 사용하기에는 적절하지 않습니다. 부원 4: 충전 상태 검출 방식 중 온도로 상태를 파악하는 방식에서 는 주변 환경이 충전지 표면 온도에 영향을 준다면 충전 완 료 시점을 정확하게 추정하기 어렵습니다. 부원 5: 지금까지 논의한 방식은 모두 충전 전원을 차단하는 장치 가 없다면 과충전을 방지할 수 없다는 한계가 있습니다.\",\\n        \"choices\": [\\n            {\\n                \"number\": \"①\",\\n                \"text\": \"부원1의 의견\"\\n            },\\n            {\\n                \"number\": \"②\",\\n                \"text\": \" 부원2의 의견\"\\n            },\\n            {\\n                \"number\": \"③\",\\n                \"text\": \" 부원3의 의견\"\\n            },\\n            {\\n                \"number\": \"④\",\\n                \"text\": \"부원4의 의견\"\\n            },\\n            {\\n                \"number\": \"⑤\",\\n                \"text\": \"부원5의 의견\"\\n            }\\n        ],\\n        \"criteria\": \"이 문항은 독서 자료에 제시된 정보를 토대로 과학적 원리나 기술의 한계점을 파악하여 비판할 수 있는지를 평가하기 위해 출제하였다. 이 문항은 2015 개정 교육과정 (12독서02-05] 글에서 자신과 사회의 문제를 해결하는 방법이나 필자의 생각에 대한 대안을 찾으며 창의적으로 읽는다.\\', (12독서03-03] 과학• 기술 분야의 글을 읽으며 제재에 담긴 지식과 정보의 객관성, 논거의 임중 과정과 타당성, 과학적 원리의 응용과 한계 등을 비판적으로 이해한다. 에 근거하고 있다.\",\\n        \"define\": \"이 문항의 정답을 찾기 위해서는 지문에서 설명한 세 가지 충전 중단 방식에 대해 이해하고. 제시된 정보를 토대로 주어진 조건하에서의 변화 등과 같은 새로운 내용을 추론하거나 각 충전 중단 방식의 한계점을 파악할 수 있어야 한다. 이 문항에서는 부원 2\\'는 \\'충전 전류가 변할 때\\'와 \\'충전 전류가 일정할 경우로 나누어 실제 충전 양과 추정한 충전 양의 차이를 비교하고 있다. 지문에서 전류 적산 방식에 대한 설명을 살펴보면, \\'일정한 시간 간격으로 충전 전류의 세기를 측정\\'하며 \\'각각의 값에 측정 시간 간격을 곱한 것을 모두 더한 값을 충전 양으로 추정함을 알 수 있다. 이때 충전 전류를 측정하는 \\'일정한 시간 간격\\' 동안 전류가 일정하게 흐른다고 가정하여 충전 양을 계산하고 있으므로, \\'충전 전류가 일정할 경우에는 추정한 충전 양과 실제 충전 양이 같아지고, 충전 전류가 변할 때에는 추정한 충전 양과 실제 충전 양의 차이가 커지게 된다. 따라서 충전 전류가 일정할 경우 추정한 충전 양과 실제 충전 양의 차이가 커진다고 언급한 0는 적절하지 않은 의견이다. 이 문항을 해결하기 위해서는 지문과 《보기》에서 문제 해결에 필요한 정보 파악 및 적절성 판단하기, 글에 제시된 정보를 통해 새로운 내용 추론하기, 과학•기술 분야의 글에 대한 비판적 읽기 관련 요소 등을 학습할 필요가 있다.\",\\n        \"guidline\": \"이러한 유형의 문항을 해결하기 위해서는 과학적 원리나 기술에 대해 다룬 글을 읽고, 설명하고 있는 대상의 특성, 장•단점, 발달 또는 개선 과정 등에 대해 정확하게 이해할 수 있어야 한다. 또한 제시된 정보를 토대로 새로운 내용을 추론하며 그 원리나 기술의 한계점을 파악하여 비판하는 능력을 갖추어야 한다. 이를 위해서 학교 수업에서는 독서 교과서 등을 통해 과학•기술 분야의 글을 읽으면서 과학적 원리나 기술에 대한 정보를 파악하거나 추론 및 비판하며 읽는 데 필요한 요소 등을 학습하고, 실제 독서 과정에서 글에 담긴 지식과 정보를 파악한 후 정보들을 종합하여 새로운 정보를 추론해 보는 연습, 정보의 객관성, 논거의 타당성, 과학적 원리의 응용과 한계점 등의 관점에서 글을 비판해 보는 연습을 할 필요가 있다.\"\\n    }\\n]')]"
            ]
          },
          "execution_count": 4,
          "metadata": {},
          "output_type": "execute_result"
        }
      ],
      "source": [
        "documents"
      ]
    },
    {
      "cell_type": "code",
      "execution_count": 5,
      "metadata": {
        "id": "nkpmrkgvME-4"
      },
      "outputs": [],
      "source": [
        "# 2. OpenAI 임베딩 모델 초기화\n",
        "embeddings_model = OpenAIEmbeddings()"
      ]
    },
    {
      "cell_type": "code",
      "execution_count": 12,
      "metadata": {
        "colab": {
          "base_uri": "https://localhost:8080/"
        },
        "id": "2nzr_HJSCT8Z",
        "outputId": "a924e629-b03b-4e01-a9eb-1d8d1392c8f3"
      },
      "outputs": [
        {
          "name": "stdout",
          "output_type": "stream",
          "text": [
            "FAISS 벡터 DB 저장 완료: ./faiss_index_txt_files\n"
          ]
        }
      ],
      "source": [
        "# 3. 문서 내용을 벡터로 변환\n",
        "texts = [doc.page_content for doc in documents]\n",
        "metadata = [doc.metadata for doc in documents]  # 파일명, 경로 등 메타데이터 저장\n",
        "embeddings = embeddings_model.embed_documents(texts)\n",
        "\n",
        "# 4. FAISS 인덱스 생성\n",
        "vector_db = FAISS.from_texts(texts, embeddings_model, metadatas=metadata)\n",
        "\n",
        "# 5. FAISS 인덱스를 파일로 저장\n",
        "faiss_index_file_path = \"./faiss_index_txt_files\"\n",
        "vector_db.save_local(faiss_index_file_path)\n",
        "\n",
        "print(f\"FAISS 벡터 DB 저장 완료: {faiss_index_file_path}\")"
      ]
    },
    {
      "cell_type": "code",
      "execution_count": 16,
      "metadata": {},
      "outputs": [
        {
          "name": "stdout",
          "output_type": "stream",
          "text": [
            "\n",
            "🔴 필수 문서가 FAISS에서 누락되었습니다. 다시 추가하세요: {'./지문 관련/자료작성원리.txt', './지문 관련/평가문항예제.txt'}\n",
            "\n",
            "[1] 검색된 문서:\n",
            "- 자연 과학적 시각으로 물질계와 생태계, 우주를 탐구하는 인간의 정신 활동을 담고 있는 글이다.\n",
            "- 수에 관하여 연구하는 수학, 물질의 물리적 성질과 운동 형태 등을 연구하는 물리학, 물질의 조성과 구조 · 성질 등을 연구하는 화학, 생물의 구조와 기능을 과학적으로 연구하는 생명 과학, 지구 및 천체를 연구하는 지구 과학과 관련된 글 등을 포함한다.\n",
            "Metadata: {'source': '지문 관련\\\\26수특_과학분야의 글이란.txt'}\n",
            "\n",
            "[2] 검색된 문서:\n",
            "- 물리학, 화학, 생명 과학, 지구 과학 분야의 과학적 원리와 탐구 과정, 실험 과정 등을 다룬 지문이 출제되고 있다.\n",
            "- 화제에 대한 개념을 설명하고 그에 대한 이해를 바탕으로 원리, 방법을 이해해야 하는 지문이 자주 출제되고 있다.\n",
            "- 최근 자주 출제되고 있는 생명 과학 제재의 경우, 구성 요소의 기능과 특징을 개념, 원리, 방법 등에 관한 정보와 함께 중시해야 하는 지문이 출제되고 있다.\n",
            "Metadata: {'source': '지문 관련\\\\26수특_과학분야의 출제경향_지문.txt'}\n",
            "\n",
            "[3] 검색된 문서:\n",
            "- 인간의 삶을 편리하게 하는 산업 기술, 생활 기술 등 다양한 분야의 기술을 설명하는 글이다.\n",
            "- 특정 과학 이론을 바탕으로 장치나 시스템에 적용되는 원리와 작동 과정, 한계 등을 구체적으로 서술한 글이다.\n",
            "- 전기와 전자의 원리를 이용한 공학 기술, 컴퓨터를 이용한 공학 기술, 화학이나 생명 과학과 결합된 공학 기술, 토목이나 건축에 활용되는 토목건축 공학 기술과 관련된 글 둥을 포함한다.\n",
            "Metadata: {'source': '지문 관련\\\\26수특_기술분야의 글이란.txt'}\n"
          ]
        }
      ],
      "source": [
        "# 저장된 FAISS 인덱스 로드\n",
        "vector_db = FAISS.load_local(\"faiss_index_txt_files\", embeddings_model, allow_dangerous_deserialization=True)\n",
        "\n",
        "# 검색할 쿼리\n",
        "query = \"과학\"\n",
        "\n",
        "# 유사한 문서 3개 검색\n",
        "results = vector_db.similarity_search(query, k=3)\n",
        "\n",
        "# 필수 문서 2개를 검색 결과에 포함시키기 위해 직접 검색\n",
        "required_files = [\"./지문 관련/자료작성원리.txt\", \"./지문 관련/평가문항예제.txt\"]\n",
        "\n",
        "# FAISS의 내부 docstore에서 필수 문서 가져오기\n",
        "required_docs = []\n",
        "for doc in vector_db.docstore._dict.values():  # FAISS 내부 저장소 순회\n",
        "    if \"source\" in doc.metadata and doc.metadata[\"source\"] in required_files:\n",
        "        required_docs.append(doc)\n",
        "\n",
        "# 중복 제거 (필수 문서가 이미 검색된 문서에 포함되지 않도록 처리)\n",
        "unique_results = {res.page_content: res for res in results}  # 기존 검색된 문서 저장\n",
        "for doc in required_docs:\n",
        "    if doc.page_content not in unique_results:\n",
        "        unique_results[doc.page_content] = doc  # 필수 문서 추가\n",
        "\n",
        "# 최종 결과 리스트 (최대 5개)\n",
        "final_results = list(unique_results.values())[:5]\n",
        "\n",
        "# 결과 출력\n",
        "for i, res in enumerate(final_results):\n",
        "    print(f\"\\n[{i+1}] 검색된 문서:\")\n",
        "    print(res.page_content)\n",
        "    print(\"Metadata:\", res.metadata)\n"
      ]
    },
    {
      "cell_type": "code",
      "execution_count": 11,
      "metadata": {
        "colab": {
          "base_uri": "https://localhost:8080/"
        },
        "id": "stU2GAcZJ915",
        "outputId": "4e6f7f68-5bff-4e2f-a358-524e227ba8a1"
      },
      "outputs": [
        {
          "ename": "AttributeError",
          "evalue": "'str' object has no attribute 'page_content'",
          "output_type": "error",
          "traceback": [
            "\u001b[1;31m---------------------------------------------------------------------------\u001b[0m",
            "\u001b[1;31mAttributeError\u001b[0m                            Traceback (most recent call last)",
            "Cell \u001b[1;32mIn[11], line 19\u001b[0m\n\u001b[0;32m     17\u001b[0m unique_results \u001b[38;5;241m=\u001b[39m {res\u001b[38;5;241m.\u001b[39mpage_content: res \u001b[38;5;28;01mfor\u001b[39;00m res \u001b[38;5;129;01min\u001b[39;00m results}  \u001b[38;5;66;03m# 검색된 문서 집합\u001b[39;00m\n\u001b[0;32m     18\u001b[0m \u001b[38;5;28;01mfor\u001b[39;00m doc \u001b[38;5;129;01min\u001b[39;00m required_docs:\n\u001b[1;32m---> 19\u001b[0m     \u001b[38;5;28;01mif\u001b[39;00m doc \u001b[38;5;129;01mand\u001b[39;00m \u001b[43mdoc\u001b[49m\u001b[38;5;241;43m.\u001b[39;49m\u001b[43mpage_content\u001b[49m \u001b[38;5;129;01mnot\u001b[39;00m \u001b[38;5;129;01min\u001b[39;00m unique_results:\n\u001b[0;32m     20\u001b[0m         unique_results[doc\u001b[38;5;241m.\u001b[39mpage_content] \u001b[38;5;241m=\u001b[39m doc  \u001b[38;5;66;03m# 필수 문서 추가\u001b[39;00m\n\u001b[0;32m     22\u001b[0m \u001b[38;5;66;03m# 최종 결과 리스트 (최대 5개)\u001b[39;00m\n",
            "\u001b[1;31mAttributeError\u001b[0m: 'str' object has no attribute 'page_content'"
          ]
        }
      ],
      "source": [
        "# 저장된 FAISS 인덱스 로드\n",
        "vector_db = FAISS.load_local(\"faiss_index_txt_files\", embeddings_model, allow_dangerous_deserialization=True)\n",
        "\n",
        "# 검색할 쿼리\n",
        "query = \"과학\"\n",
        "\n",
        "# 유사한 문서 3개 검색\n",
        "results = vector_db.similarity_search(query, k=3)\n",
        "\n",
        "# 필수적으로 포함할 문서 2개 (예시: 특정 문서 ID를 통해 가져오기)\n",
        "required_docs = [\n",
        "    vector_db.docstore.search(\"./지문 관련/자료작성원리.txt\"),\n",
        "    vector_db.docstore.search(\"./지문 관련/평가문항예제.txt\")\n",
        "]\n",
        "\n",
        "# 중복 제거 (필수 문서가 이미 검색 결과에 포함되었는지 확인)\n",
        "unique_results = {res.page_content: res for res in results}  # 검색된 문서 집합\n",
        "\n",
        "for doc in required_docs:\n",
        "    if doc and doc.page_content not in unique_results:\n",
        "        unique_results[doc.page_content] = doc  # 필수 문서 추가\n",
        "\n",
        "# 최종 결과 리스트 (최대 5개)\n",
        "final_results = list(unique_results.values())[:5]\n",
        "\n",
        "# 결과 출력\n",
        "for i, res in enumerate(final_results):\n",
        "    print(f\"\\n[{i+1}] 검색된 문서:\")\n",
        "    print(res.page_content)\n",
        "    print(\"Metadata:\", res.metadata)\n",
        "\n"
      ]
    },
    {
      "cell_type": "code",
      "execution_count": 17,
      "metadata": {
        "colab": {
          "base_uri": "https://localhost:8080/"
        },
        "id": "XZD1sBEoKHfA",
        "outputId": "83868de7-51a9-45f3-9d6c-d0cefcd19ee4"
      },
      "outputs": [
        {
          "data": {
            "text/plain": [
              "[Document(id='e9579243-d28c-4653-a939-20b38df164d3', metadata={'source': '지문 관련\\\\26수특_과학분야의 글이란.txt'}, page_content='- 자연 과학적 시각으로 물질계와 생태계, 우주를 탐구하는 인간의 정신 활동을 담고 있는 글이다.\\n- 수에 관하여 연구하는 수학, 물질의 물리적 성질과 운동 형태 등을 연구하는 물리학, 물질의 조성과 구조 · 성질 등을 연구하는 화학, 생물의 구조와 기능을 과학적으로 연구하는 생명 과학, 지구 및 천체를 연구하는 지구 과학과 관련된 글 등을 포함한다.'),\n",
              " Document(id='f11f2876-d96f-4f05-b9db-82e9955d08e5', metadata={'source': '지문 관련\\\\26수특_과학분야의 출제경향_지문.txt'}, page_content='- 물리학, 화학, 생명 과학, 지구 과학 분야의 과학적 원리와 탐구 과정, 실험 과정 등을 다룬 지문이 출제되고 있다.\\n- 화제에 대한 개념을 설명하고 그에 대한 이해를 바탕으로 원리, 방법을 이해해야 하는 지문이 자주 출제되고 있다.\\n- 최근 자주 출제되고 있는 생명 과학 제재의 경우, 구성 요소의 기능과 특징을 개념, 원리, 방법 등에 관한 정보와 함께 중시해야 하는 지문이 출제되고 있다.'),\n",
              " Document(id='0a3fa8c5-9ecc-4380-90ca-d33fecb49385', metadata={'source': '지문 관련\\\\26수특_기술분야의 글이란.txt'}, page_content='- 인간의 삶을 편리하게 하는 산업 기술, 생활 기술 등 다양한 분야의 기술을 설명하는 글이다.\\n- 특정 과학 이론을 바탕으로 장치나 시스템에 적용되는 원리와 작동 과정, 한계 등을 구체적으로 서술한 글이다.\\n- 전기와 전자의 원리를 이용한 공학 기술, 컴퓨터를 이용한 공학 기술, 화학이나 생명 과학과 결합된 공학 기술, 토목이나 건축에 활용되는 토목건축 공학 기술과 관련된 글 둥을 포함한다.')]"
            ]
          },
          "execution_count": 17,
          "metadata": {},
          "output_type": "execute_result"
        }
      ],
      "source": [
        "results"
      ]
    },
    {
      "cell_type": "code",
      "execution_count": 18,
      "metadata": {
        "colab": {
          "base_uri": "https://localhost:8080/"
        },
        "id": "8Xz2tFjSKd74",
        "outputId": "844835cf-70c1-401f-f596-a59c4660575e"
      },
      "outputs": [
        {
          "name": "stdout",
          "output_type": "stream",
          "text": [
            "\n",
            "[1] 검색된 문서:\n",
            "내용: - 자연 과학적 시각으로 물질계와 생태계, 우주를 탐구하는 인간의 정신 활동을 담고 있는 글이다.\n",
            "- 수에 관하여 연구하는 수학, 물질의 물리적 성질과 운동 형태 등을 연구하는 물리학, 물질의 조성과 구조 · 성질 등을 연구하는 화학, 생물의 구조와 기능을 과학적으로 연구하는 생명 과학, 지구 및 천체를 연구하는 지구 과학과 관련된 글 등을 포함한다.\n",
            "메타데이터: {'source': '지문 관련\\\\26수특_과학분야의 글이란.txt'}\n",
            "\n",
            "[2] 검색된 문서:\n",
            "내용: - 물리학, 화학, 생명 과학, 지구 과학 분야의 과학적 원리와 탐구 과정, 실험 과정 등을 다룬 지문이 출제되고 있다.\n",
            "- 화제에 대한 개념을 설명하고 그에 대한 이해를 바탕으로 원리, 방법을 이해해야 하는 지문이 자주 출제되고 있다.\n",
            "- 최근 자주 출제되고 있는 생명 과학 제재의 경우, 구성 요소의 기능과 특징을 개념, 원리, 방법 등에 관한 정보와 함께 중시해야 하는 지문이 출제되고 있다.\n",
            "메타데이터: {'source': '지문 관련\\\\26수특_과학분야의 출제경향_지문.txt'}\n",
            "\n",
            "[3] 검색된 문서:\n",
            "내용: - 인간의 삶을 편리하게 하는 산업 기술, 생활 기술 등 다양한 분야의 기술을 설명하는 글이다.\n",
            "- 특정 과학 이론을 바탕으로 장치나 시스템에 적용되는 원리와 작동 과정, 한계 등을 구체적으로 서술한 글이다.\n",
            "- 전기와 전자의 원리를 이용한 공학 기술, 컴퓨터를 이용한 공학 기술, 화학이나 생명 과학과 결합된 공학 기술, 토목이나 건축에 활용되는 토목건축 공학 기술과 관련된 글 둥을 포함한다.\n",
            "메타데이터: {'source': '지문 관련\\\\26수특_기술분야의 글이란.txt'}\n"
          ]
        }
      ],
      "source": [
        "for i, res in enumerate(results):\n",
        "    print(f\"\\n[{i+1}] 검색된 문서:\")\n",
        "    print(\"내용:\", res.page_content)\n",
        "    print(\"메타데이터:\", res.metadata)  # 메타데이터 조회\n"
      ]
    },
    {
      "cell_type": "code",
      "execution_count": 20,
      "metadata": {
        "id": "FmkB_UQUFxRQ"
      },
      "outputs": [],
      "source": [
        "topic = \"인공지능과 기계학습\"\n",
        "received_text = f'''\n",
        "\"{topic}\" 주제를 바탕으로, 한국교육과정평가원 스타일의 문제 풀이를 위한 독서 지문을 작성하세요.\n",
        "\n",
        "[분야]\n",
        "인문, 예술, 사회문화, 기술, 과학, 주제통합\n",
        "\n",
        "[출제 기준 참고]\n",
        "다음은 \"{topic}\" 관련 수학능력시험 국어영역 독서과목 출제 경향, 자료 작성 원리, \"{topic}\"에 해당하는 분야별 글에 대한 설명, 지문 작성 가이드라인입니다.\n",
        "이 기준을 충실히 반영하여 지문을 작성하십시오.\n",
        "\n",
        "{results}\n",
        "\n",
        "[작성 조건]\n",
        "- 글자 수: 1200자 내외 (±100자)\n",
        "- 문체: 문어체, 논리적, 객관적 서술\n",
        "- 전개 방식: 서론 → 본론 → 결론의 구조\n",
        "\n",
        "다음은 독서 지문의 예시입니다.\n",
        "[지문 예시]\n",
        "문장이나 영상, 음성을 만들어 내는 인공 지능 생성 모델 중확산 모델은 영상의 복원, 생성 및 변환에 뛰어난 성능을 보인다.\n",
        "확산 모델의 기본 발상은, 원본 이미지에 노이즈를 점진적으로 추가하였다가 그 노이즈를 다시 제거해 나가면 원본 이미지를 복원할 수 있다는 것이다. 노이즈는 불필요하거나 원하지 않는 값을 의미한다. 원하는 값만 들어 있는 원본 이미지에 노이즈를 단계별로 더하면 노이즈가 포함된 확산 이미지가 되고, 여러 단계를 거치면 결국 원본 이미지가 어떤 이미지였는지 전혀 알아볼 수 없는 노이즈 이미지가 된다. 역으로, 단계별로 더해진 노이즈를 알 수 있다면 노이즈 이미지에서 원본 이미지를 복원할수 있다. 확산 모델은 노이즈 생성기, 이미지 연산기, 노이즈 예측기로 구성되며, 순확산 과정과 역확산 과정 순으로 작동한다.\n",
        "순확산 과정은 이미지에 노이즈를 추가하면서 노이즈 예측기를 학습시키는 과정이다. 첫 단계에서는, 노이즈 생성기에서 노이즈를 만든 후 이미지 연산기가 이 노이즈를 원본 이미지에 더해서 노이즈가 포함된 확산 이미지를 출력한다. 다음 단계부터는 노이즈 생성기에서 만든 노이즈를 이전 단계에서 출력된 확산 이미지에 더한다. 이러한 단계를 충분히 반복하면 최종적으로 노이즈 이미지가 출력된다. 이때 더해지는 노이즈는 크기나 분포 양상 등 그 특성이 단계별로 다르다. 따라서 노이즈 예측기는 단계별로 확산 이미지를 입력받아 이미지에 포함된 노이즈의 특성을 추출하여 수치들로 표현하고, 이 수치들을 바탕으로 노이즈를 예측한다. 노이즈 예측기 내부의 이러한 수치들을\n",
        "잠재 표현 이라고 한다. 노이즈 예측기는 잠재 표현을 구하고 노이즈를 예측하는 방식을 학습한다.\n",
        "노이즈 예측기의 학습 방법은 기계 학습 중에서 지도 학습에 해당한다. 지도 학습은 학습 데이터에 정답이 주어져 출력과 정답의 차이가 작아지도록 모델을 학습시키는 방법이다. 노이즈 예측기를 학습시킬 때는 노이즈 생성기에서 만들어 넣어 준노이즈가 정답에 해당하며 이 노이즈와 예측된 노이즈 사이의 차이가 작아지도록 학습시킨다.\n",
        "역확산 과정은 노이즈 이미지에서 노이즈를 제거하여 원본 이미지를 복원하는 과정이다. 노이즈를 제거하려면 이미지에 단계별로 어떤 특성의 노이즈가 더해졌는지 알아야 하는데 노이즈 예측기가 이 역할을 한다. 노이즈 이미지 또는 중간 단계에서의 확산 이미지를 노이즈 예측기에 입력하면 이미지에 포함된 노이즈의 특성을 추출하여 잠재 표현을 구하고 이를 바탕으로 노이즈를 예측한다. 이미지 연산기는 입력된 확산 이미지로부터 이 노이즈를 빼서 현 단계의 노이즈를 제거한 확산 이미지를 출력한다. 확산 이미지에 이런 단계를 반복하면 결국 노이즈가 대부분 제거되어 원본 이미지에 가까운 이미지만 남게 된다.\n",
        "한편, 많은 종류의 이미지를 학습시킨 후 학습된 이미지의 잠재 표현에 고유 번호를 붙이면 역확산 과정에서 이미지를 선택하여 생성할 수 있다. 또한 잠재 표현의 수치들을 조정하면 다른 특성의 노이즈가 생성되어 여러 이미지를 혼합하거나 실재하지 않는 이미지를 만들어 낼 수도 있다.\n",
        "\n",
        "[핵심 논점(출제 의도)]\n",
        "생성된 지문에서 평가원 출제위원의 시각에서 학생이 반드시 이해해야 할 핵심 논점 2~3개를 요약해 제시한 것을 기억해 두세요. (각 1~2문장씩)\n",
        "논점은 반드시 지문 내 핵심 문장이나 개념, 논리 전개에 근거해 작성할 것.\n",
        "\n",
        "[금지 사항]\n",
        "- 문학 작품 생성 금지.\n",
        "- 허구적 사건이나 사람 이름 쓰지 말고, 객관적 사실 중심으로.\n",
        "- 문장은 반드시 완결성을 갖출 것. 어색한 비문 생성 금지.\n",
        "\n",
        "\n",
        "'''"
      ]
    },
    {
      "cell_type": "code",
      "execution_count": 21,
      "metadata": {
        "id": "HYOPA6OFJqlI"
      },
      "outputs": [],
      "source": [
        "llm_result = generate_text(received_text)"
      ]
    },
    {
      "cell_type": "code",
      "execution_count": 22,
      "metadata": {
        "colab": {
          "base_uri": "https://localhost:8080/",
          "height": 109
        },
        "id": "ZMg6YLyaJqih",
        "outputId": "a0a7304d-31c8-43e4-9fa8-5ba8b1bbab90"
      },
      "outputs": [
        {
          "data": {
            "text/plain": [
              "\"[지문 작성]\\n\\n인공지능(AI)과 기계학습은 현대 사회에서 다양한 분야에 변화를 가져오고 있다. 이러한 기술의 발전은 많은 분야에서 인간의 삶을 편리하게 하는 데 크게 기여하고 있다. 인공지능은 사람의 지능적 행동을 모방하고, 미리 설정된 규칙 없이도 데이터를 기반으로 학습한다는 점에서 독특한 특성을 지닌다. 이와 함께 기계학습은 대량의 데이터를 분석하고 이를 기반으로 학습 가능한 모델을 구축하여 활용하는 데 중점을 둔다. 이러한 원리를 깊이 이해하는 것은 더욱 발전된 응용을 위해 필수적이다.\\n\\nAI와 기계학습은 다양한 학문적 영역에서 샘솟는 혁신적 연구의 토대를 제공한다. 기계학습의 기본 개념은 '훈련'과 '예측'의 과정으로 설명할 수 있다. 훈련 과정에서는 주어진 데이터 세트를 활용하여 모델을 구축한다. 이때, 데이터는 입력 값과 정답 값으로 구성되며, 모델은 입력 값을 결과로 변환하는 함수로서 학습한다. 특별히, 지도 학습(supervised learning)과 비지도 학습(unsupervised learning)이라는 두 가지 주요 학습 방식이 있다. 지도 학습에서는 정답을 포함한 데이터 세트가 필요하며, 모델은 이를 통해 정확성을 향상시킨다. 반면, 비지도 학습은 정답 없는 데이터 세트로부터 패턴을 인식하며, 데이터를 군집화하거나 분류할 수 있는 잠재 구조를 찾는다.\\n\\nAI와 기계학습의 발전은 다양한 분야에서 사람들에게 실질적인 혜택을 제공하고 있다. 예를 들어, 의료 분야에서는 질병 진단과 치료의 정확성을 높이고, 금융 분야에서는 정확한 시장 예측과 사기 탐지를 가능하게 한다. 또한, AI 기반의 자연어 처리 기술은 사람과 컴퓨터 간의 상호 작용을 보다 원활하게 하여, 사용자가 필요로 하는 정보를 효율적으로 제공한다. 이러한 응용의 이면에는 기계학습의 복잡한 알고리즘이 존재하며, 이는 데이터의 특성과 모델의 성능을 적절히 조정함으로써 가능한 것이다.\\n\\n결론적으로, 인공지능과 기계학습은 기술적 진보를 이루는 핵심적인 원동력임을 알 수 있다. 이는 인간의 삶 속에서 필요한 중요한 결정을 지원하며, 복잡한 문제를 해결하는 데 기여한다. 그러나 이러한 기술은 무분별한 사용에 따른 윤리적 문제와 사회적 이슈에 대한 고려도 필요하다. 따라서, AI와 기계학습을 이해하고 활용하는 데에는 윤리적 책임과 지속 가능한 발전에 대한 깊은 인식이 필수적이다.\\n\\n[핵심 논점(출제 의도)]\\n1. 인공지능과 기계학습의 기본 원리와 방법론에 대한 이해는 그들의 응용 범위 확장에 필수적이다.\\n2. 지도 학습과 비지도 학습의 차이를 이해하는 것은 다양한 문제 해결을 위한 기계학습의 적절한 적용을 가능하게 한다.\\n3. AI와 기계학습의 발전은 다양한 분야에 긍정적 영향을 미치지만, 윤리적 문제와 사회적 책임 역시 고려해야 한다.\""
            ]
          },
          "execution_count": 22,
          "metadata": {},
          "output_type": "execute_result"
        }
      ],
      "source": [
        "llm_result"
      ]
    },
    {
      "cell_type": "code",
      "execution_count": 25,
      "metadata": {
        "id": "Hj4Vk758JqgQ"
      },
      "outputs": [],
      "source": [
        "user_prompt = f\"\"\"\n",
        "    당신은 대한민국 수학능력시험 국어영역 독서과목 문제를 출제하는 한국교육과정평가원 출제위원입니다.\n",
        "    다음은 문제와 선택지를 작성할 때 반드시 고려해야 할 기준입니다:\n",
        "    {results}\n",
        "\n",
        "    아래 지문을 바탕으로 학생의 이해력, 논리적 추론 능력, 비판적 사고력을 평가할 수 있는 5지선다형 객관식 문항을 1개 작성하세요.\n",
        "\n",
        "    [지문]\n",
        "    {llm_result}\n",
        "\n",
        "    [핵심 논점(출제 의도)]\n",
        "   지문 생성 시 기억해 두었던 논점을 제시하세요.\n",
        "\n",
        "    [출제 방향 설정]\n",
        "    - 반드시 위 '핵심 논점'에 근거하여 문제를 출제하십시오.\n",
        "    - \"{topic}\" 관련 출제 경향을 반영할 것.\n",
        "    - 출제 오류가 발생하지 않도록, 선택지는 모두 지문 내용이나 논리와 명백히 연결되어야 합니다.\n",
        "\n",
        "\t\t[금지 사항]\n",
        "\t\t- 지문의 내용과 관련 없는 문항 생성 금지.\n",
        "\t\t- 비논리적이거나 두 개 이상의 답이 나올 수 있는 문항 생성 금지.\n",
        "\t\t- 문제와 정답이 명확하지 않은 경우 생성 금지.\n",
        "\t\t- 하나의 선택지에서는 하나의 정보만 물어볼 것.\n",
        "\t\t- 지문에 쓰인 명사는 풀어쓰거나 비슷한 표현으로 바꾸지 않고 그대로 쓸 것.\n",
        "\n",
        "    [문제 생성 출력 형식]\n",
        "    질문: (학생이 반드시 지문을 읽고 이해해야 풀 수 있는 질문)\n",
        "    ///\n",
        "    1. (선택지)\n",
        "    ///\n",
        "    2. (선택지)\n",
        "    ///\n",
        "    3. (선택지)\n",
        "    ///\n",
        "    4. (선택지)\n",
        "    ///\n",
        "    5. (선택지)\n",
        "    ///\n",
        "    정답: X번 (정답 번호)\n",
        "    ///\n",
        "    해설: (정답의 근거와 오답이 틀린 이유를 포함한 상세 해설)\n",
        "    \n",
        "    \n",
        "    \"\"\"\n",
        "\n",
        "question_data = generate_text(user_prompt)"
      ]
    },
    {
      "cell_type": "code",
      "execution_count": 26,
      "metadata": {
        "id": "urBNpYI4Jqd4"
      },
      "outputs": [
        {
          "data": {
            "text/plain": [
              "'질문: 지도 학습과 비지도 학습의 차이점으로 올바르게 설명된 것은 무엇인가?\\n\\n///\\n1. 지도 학습은 정답이 없는 데이터 세트를 사용하여 패턴을 인식한다.\\n///\\n2. 비지도 학습은 정답이 포함된 데이터 세트를 사용하여 모델의 정확성을 향상시킨다.\\n///\\n3. 지도 학습은 정답을 포함한 데이터 세트를 사용하여 문제를 해결한다.\\n///\\n4. 비지도 학습에서는 데이터의 군집화와 분류가 불가능하다.\\n///\\n5. 지도 학습에서는 정답이 없는 데이터 세트를 사용하여 잠재 구조를 찾는다.\\n///\\n\\n정답: 3번\\n\\n///\\n해설: 3번 선택지는 지도 학습의 특성을 정확히 설명하고 있다. 지도 학습에서는 정답(레이블)이 포함된 데이터 세트를 사용하여 학습하고, 이를 통해 모델의 정확성을 향상시킨다. 1번과 5번 선택지는 비지도 학습에 대한 설명으로, 지도 학습이 아닌 비지도 학습에서는 정답이 없는 데이터 세트를 활용하여 패턴을 인식하고 잠재 구조를 찾는다. 2번 선택지는 지도 학습과 비지도 학습의 개념을 혼동하고 있어 틀렸다. 4번 선택지 또한 비지도 학습의 특징을 잘못 이해한 것이다. 비지도 학습은 데이터를 군집화하거나 분류할 수 있는 잠재 구조를 찾는 데 중점을 둔다.'"
            ]
          },
          "execution_count": 26,
          "metadata": {},
          "output_type": "execute_result"
        }
      ],
      "source": [
        "question_data"
      ]
    },
    {
      "cell_type": "code",
      "execution_count": null,
      "metadata": {
        "id": "KbV2jR1XJqZA"
      },
      "outputs": [],
      "source": []
    },
    {
      "cell_type": "code",
      "execution_count": null,
      "metadata": {
        "id": "LcTYsQIPJqSo"
      },
      "outputs": [],
      "source": []
    }
  ],
  "metadata": {
    "colab": {
      "provenance": []
    },
    "kernelspec": {
      "display_name": "env_ck",
      "language": "python",
      "name": "python3"
    },
    "language_info": {
      "codemirror_mode": {
        "name": "ipython",
        "version": 3
      },
      "file_extension": ".py",
      "mimetype": "text/x-python",
      "name": "python",
      "nbconvert_exporter": "python",
      "pygments_lexer": "ipython3",
      "version": "3.13.2"
    }
  },
  "nbformat": 4,
  "nbformat_minor": 0
}
